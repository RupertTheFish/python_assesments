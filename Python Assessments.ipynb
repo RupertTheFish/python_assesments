{
 "cells": [
  {
   "cell_type": "markdown",
   "id": "81a801b5-47c9-4c86-b556-f82559d1136c",
   "metadata": {},
   "source": [
    "# Studying Python for Technical Job Interviews\n",
    "\n",
    "Here's a range of Python exercises commonly seen in technical assessments. They vary in difficulty, covering basic to advanced concepts. \n",
    "Practicing these types of problems will help me prepare for upcoming assessments:\n",
    "\n",
    "### Assessments\n",
    "\n",
    "    1. String Manipulation  \n",
    "    \n",
    "        Problem: Write a function that takes a string and returns the longest palindrome within it.  \n",
    "        Example:  \n",
    "                longest_palindrome(\"babad\")  # Output: \"bab\" or \"aba\"  \n",
    "\n",
    "  \n",
    "    2. Array/Lists  \n",
    "    \n",
    "        Problem: Write a function that finds the two numbers in a list that add up to a specific target.  \n",
    "        Example:  \n",
    "                two_sum([2, 7, 11, 15], 9)  # Output: [0, 1]  \n",
    "\n",
    "\n",
    "    3. Binary Search  \n",
    "    \n",
    "        Problem: Implement binary search on a sorted list and return the index of a target element.  \n",
    "        Example:  \n",
    "                binary_search([1, 3, 5, 7, 9], 5)  # Output: 2  \n",
    "\n",
    "\n",
    "    4. Recursion\n",
    "    \n",
    "        Problem: Write a function to compute the nth Fibonacci number using recursion.  \n",
    "        Example:  \n",
    "                fibonacci(6)  # Output: 8  \n",
    "\n",
    "\n",
    "    5. Sorting Algorithms  \n",
    "    \n",
    "        Problem: Implement the quicksort algorithm.  \n",
    "        Example:  \n",
    "                quicksort([3, 6, 8, 10, 1, 2, 1])  # Output: [1, 1, 2, 3, 6, 8, 10]  \n",
    "\n",
    "\n",
    "    6. Data Structures: Stacks and Queues\n",
    "    \n",
    "        Problem: Implement a stack with push, pop, and min operations, all in O(1) time.  \n",
    "        Example:  \n",
    "                stack.push(5)\n",
    "                stack.min()  # Output: 5\n",
    "                stack.push(3)\n",
    "                stack.min()  # Output: 3  \n",
    "\n",
    "\n",
    "    7. Dynamic Programming  \n",
    "    \n",
    "        Problem: Solve the \"coin change\" problem: given a list of coin denominations and an amount, find the minimum number of coins needed to make that amount.  \n",
    "        Example:  \n",
    "                coin_change([1, 2, 5], 11)  # Output: 3 (5 + 5 + 1)  \n",
    "\n",
    "\n",
    "    8. Graph Traversal\n",
    "    \n",
    "        Problem: Implement depth-first search (DFS) and breadth-first search (BFS) for a graph.\n",
    "        Example:        \n",
    "                dfs(graph, start)  # Output: Nodes visited in DFS order\n",
    "                bfs(graph, start)  # Output: Nodes visited in BFS order\n",
    "\n",
    "\n",
    "    9. Database-like Queries  \n",
    "    \n",
    "        Problem: Given a list of dictionaries representing records, filter and sort them by specific fields.  \n",
    "        Example:  \n",
    "                filter_and_sort(records, 'age', 30)  # Output: Filtered and sorted records  \n",
    "\n",
    "\n",
    "    10. File Handling\n",
    "    \n",
    "        Problem: Write a script to read a log file, extract error messages, and write them to a new file.  \n",
    "        Example:  \n",
    "            extract_errors('log.txt', 'errors.txt')  "
   ]
  },
  {
   "cell_type": "markdown",
   "id": "6eee0649-24b2-40ce-9518-85bd8d4280b7",
   "metadata": {},
   "source": [
    "# Problem 1 \n",
    "Given a string, write a function that finds and returns the longest palindrome substring in it.   \n",
    "\n",
    "### Definition:  \n",
    "A palindrome is a string that reads the same backward as forward.  \n",
    "The goal is to return the longest such substring in the given string."
   ]
  },
  {
   "cell_type": "markdown",
   "id": "cb6279d3-cc25-4f35-92d5-515f221c0a32",
   "metadata": {},
   "source": [
    "## First approach: \n",
    "This first approach is quite literal, it resolves the issue in the most basic form.\n"
   ]
  },
  {
   "cell_type": "code",
   "execution_count": 2,
   "id": "ad63e04f-5d6a-4a4b-9f9b-3ffe59a0214b",
   "metadata": {},
   "outputs": [
    {
     "name": "stdout",
     "output_type": "stream",
     "text": [
      "True\n",
      "True\n",
      "False\n",
      "False\n"
     ]
    }
   ],
   "source": [
    "def palindrome(string): # The variable 'string' will be the argument we receive when calling the function.\n",
    "    string = string.replace(' ', '') # Replace method removes any iterations of the first argument given with the chosen second argument. In this case, all ' ' will become ''.\n",
    "    string = string.lower() # Lower method transforms all chars into lowercase. This is done to make everything comparable in an adequate manner.\n",
    "    reverse_string = string[::-1] # This line is creating a reversed version of the original word or phrase stored in the variable 'string' and assigning it to a new variable called 'reverse_string'. \n",
    "    if string == reverse_string: # This line is the heart of the palindrome check. It's an 'if statement' that's making a comparison between 'string' and 'reverse_string'.\n",
    "        return True\n",
    "    else:\n",
    "        return False\n",
    "\n",
    "# Test cases\n",
    "print(palindrome('ada ada ada ada ada')) # Output: 'True'.\n",
    "print(palindrome('this is a palindrome emordnilap a si siht')) # Output: 'True'.\n",
    "print(palindrome('ava r a vvat a')) # Output: 'False'.\n",
    "print(palindrome('not a palindrome')) # Output: 'False'.\n"
   ]
  },
  {
   "cell_type": "markdown",
   "id": "d90ff758-c72e-4ed8-8019-e70d1cd11543",
   "metadata": {},
   "source": [
    "This variation encapsulates the previous function that had seven lines of code into one that uses only two. \n",
    "The join() method calls for a separator, in this case '', and an interable argument, which in this case we put all the conditions in a 'for' statement."
   ]
  },
  {
   "cell_type": "code",
   "execution_count": 4,
   "id": "5c0352a8-9cbd-45a7-85db-d13579f19e86",
   "metadata": {},
   "outputs": [
    {
     "name": "stdout",
     "output_type": "stream",
     "text": [
      "True\n",
      "True\n",
      "False\n",
      "False\n"
     ]
    }
   ],
   "source": [
    "def palindrome(string):\n",
    "    # Remove any non-alphanumeric characters and convert to lowercase\n",
    "    cleaned_str = ''.join(char.lower() for char in string if char.isalnum()) \n",
    "    # Check if the cleaned string is equal to its reverse\n",
    "    return cleaned_str == cleaned_str[::-1]\n",
    "\n",
    "# Test cases\n",
    "print(palindrome('ava ava ava ava'))  # Output: 'True'.\n",
    "print(palindrome('this is a palindrome emordnilap a si siht')) # Output: 'True'.\n",
    "print(palindrome('ava r a vvat a')) # Output: 'False'.\n",
    "print(palindrome('not a palindrome')) # Output: 'False'."
   ]
  },
  {
   "cell_type": "markdown",
   "id": "fbcb089a-24e3-495d-95cc-55ce7c54b339",
   "metadata": {},
   "source": [
    "## Second approach: Brute Force (O(N³))\n",
    "Generate all possible substrings of the given string.  \n",
    "Check if each substring is a palindrome.  \n",
    "Keep track of the longest palindrome found.  \n"
   ]
  },
  {
   "cell_type": "code",
   "execution_count": 46,
   "id": "d9a7125e-c8aa-4656-8d5d-2e7c417474b9",
   "metadata": {},
   "outputs": [
    {
     "name": "stdout",
     "output_type": "stream",
     "text": [
      "bab\n"
     ]
    }
   ],
   "source": [
    "def longest_palindrome_brute_force(string):\n",
    "    def is_palindrome(sub): # The functon 'is_palindrome' checks if a given substring is a palindrome.\n",
    "        return sub == sub[::-1]\n",
    "    \n",
    "    max_length = 0\n",
    "    result = ''\n",
    "    \n",
    "    for i in range(len(string)): # This two nested loops generate all possible substrings.\n",
    "        for j in range(i, len(string)):\n",
    "            substring = string[i:j + 1]\n",
    "            if is_palindrome(substring) and len(substring) > max_length:\n",
    "                result = substring\n",
    "                max_length = len(substring)\n",
    "    \n",
    "    return result\n",
    "\n",
    "# Test case\n",
    "print(longest_palindrome_brute_force('babad'))  # Output: \"bab\" or \"aba\"\n"
   ]
  },
  {
   "cell_type": "markdown",
   "id": "dda5bebe-2064-42b1-90ac-28025f8fc6ba",
   "metadata": {},
   "source": [
    "## Third approach: Expand Around Center (O(N²)):\n",
    "\n",
    "Instead of generating all substrings, we can expand around each character (or pair of characters) and find the longest palindrome by growing outward.\n",
    "Steps:\n",
    "\n",
    "For each character in the string, treat it as the center of a potential palindrome.\n",
    "Expand outward while the characters on both sides are the same.\n",
    "Keep track of the longest palindrome found."
   ]
  },
  {
   "cell_type": "code",
   "execution_count": 51,
   "id": "1aebb8fb-6286-423f-8cb0-d0d7948afde6",
   "metadata": {},
   "outputs": [
    {
     "name": "stdout",
     "output_type": "stream",
     "text": [
      "bab\n",
      "bb\n",
      "ada\n"
     ]
    }
   ],
   "source": [
    "def longest_palindrome_expand_center(string):\n",
    "    if len(string) == 0:\n",
    "        return \"\"\n",
    "    \n",
    "    def expand_around_center(left, right): # The function expand_around_center takes two arguments, left and right, and expands outward while the characters match.\n",
    "        while left >= 0 and right < len(string) and string[left] == string[right]:\n",
    "            left -= 1\n",
    "            right += 1\n",
    "        return string[left + 1:right]\n",
    "    \n",
    "    longest = \"\"\n",
    "    \n",
    "    for i in range(len(string)):\n",
    "        # Odd length palindrome (single character center).\n",
    "        palindrome1 = expand_around_center(i, i)\n",
    "        \n",
    "        # Even length palindrome (two character center).\n",
    "        palindrome2 = expand_around_center(i, i + 1)\n",
    "        \n",
    "        # Update the longest palindrome when a longer one is found.\n",
    "        if len(palindrome1) > len(longest):\n",
    "            longest = palindrome1\n",
    "        if len(palindrome2) > len(longest):\n",
    "            longest = palindrome2\n",
    "    \n",
    "    return longest\n",
    "\n",
    "# Test case\n",
    "print(longest_palindrome_expand_center('babad'))  # Output: 'bab' or 'aba'.\n",
    "print(longest_palindrome_expand_center('cbbd'))   # Output: 'bb'.\n",
    "print(longest_palindrome_expand_center('adaav'))    # Output: 'ada'.\n"
   ]
  },
  {
   "cell_type": "code",
   "execution_count": null,
   "id": "a6301aca-1272-42fa-bcdf-4e2b86d2601a",
   "metadata": {},
   "outputs": [],
   "source": []
  }
 ],
 "metadata": {
  "kernelspec": {
   "display_name": "Python 3 (ipykernel)",
   "language": "python",
   "name": "python3"
  },
  "language_info": {
   "codemirror_mode": {
    "name": "ipython",
    "version": 3
   },
   "file_extension": ".py",
   "mimetype": "text/x-python",
   "name": "python",
   "nbconvert_exporter": "python",
   "pygments_lexer": "ipython3",
   "version": "3.13.1"
  }
 },
 "nbformat": 4,
 "nbformat_minor": 5
}
