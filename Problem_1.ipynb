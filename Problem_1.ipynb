{
 "cells": [
  {
   "cell_type": "markdown",
   "id": "6eee0649-24b2-40ce-9518-85bd8d4280b7",
   "metadata": {},
   "source": [
    "# Problem 1 \n",
    "Given a string, write a function that finds and returns the longest palindrome substring in it.   \n",
    "\n",
    "### Definition:  \n",
    "A palindrome is a string that reads the same backward as forward.  \n",
    "The goal is to return the longest such substring in the given string."
   ]
  },
  {
   "cell_type": "markdown",
   "id": "cb6279d3-cc25-4f35-92d5-515f221c0a32",
   "metadata": {},
   "source": [
    "## First approach: \n",
    "This first approach is quite literal, it resolves the issue in the most basic form.\n"
   ]
  },
  {
   "cell_type": "code",
   "execution_count": 2,
   "id": "ad63e04f-5d6a-4a4b-9f9b-3ffe59a0214b",
   "metadata": {},
   "outputs": [
    {
     "name": "stdout",
     "output_type": "stream",
     "text": [
      "True\n",
      "True\n",
      "False\n",
      "False\n"
     ]
    }
   ],
   "source": [
    "def palindrome(string): # The variable 'string' will be the argument we receive when calling the function.\n",
    "    string = string.replace(' ', '') # Replace method removes any iterations of the first argument given with the chosen second argument. In this case, all ' ' will become ''.\n",
    "    string = string.lower() # Lower method transforms all chars into lowercase. This is done to make everything comparable in an adequate manner.\n",
    "    reverse_string = string[::-1] # This line is creating a reversed version of the original word or phrase stored in the variable 'string' and assigning it to a new variable called 'reverse_string'. \n",
    "    if string == reverse_string: # This line is the heart of the palindrome check. It's an 'if statement' that's making a comparison between 'string' and 'reverse_string'.\n",
    "        return True\n",
    "    else:\n",
    "        return False\n",
    "\n",
    "# Test cases\n",
    "print(palindrome('ada ada ada ada ada')) # Output: 'True'.\n",
    "print(palindrome('this is a palindrome emordnilap a si siht')) # Output: 'True'.\n",
    "print(palindrome('ava r a vvat a')) # Output: 'False'.\n",
    "print(palindrome('not a palindrome')) # Output: 'False'.\n"
   ]
  },
  {
   "cell_type": "markdown",
   "id": "d90ff758-c72e-4ed8-8019-e70d1cd11543",
   "metadata": {},
   "source": [
    "This variation encapsulates the previous function that had seven lines of code into one that uses only two. \n",
    "The join() method calls for a separator, in this case '', and an interable argument, which in this case we put all the conditions in a 'for' statement."
   ]
  },
  {
   "cell_type": "code",
   "execution_count": 4,
   "id": "5c0352a8-9cbd-45a7-85db-d13579f19e86",
   "metadata": {},
   "outputs": [
    {
     "name": "stdout",
     "output_type": "stream",
     "text": [
      "True\n",
      "True\n",
      "False\n",
      "False\n"
     ]
    }
   ],
   "source": [
    "def palindrome(string):\n",
    "    # Remove any non-alphanumeric characters and convert to lowercase\n",
    "    cleaned_str = ''.join(char.lower() for char in string if char.isalnum()) \n",
    "    # Check if the cleaned string is equal to its reverse\n",
    "    return cleaned_str == cleaned_str[::-1]\n",
    "\n",
    "# Test cases\n",
    "print(palindrome('ava ava ava ava'))  # Output: 'True'.\n",
    "print(palindrome('this is a palindrome emordnilap a si siht')) # Output: 'True'.\n",
    "print(palindrome('ava r a vvat a')) # Output: 'False'.\n",
    "print(palindrome('not a palindrome')) # Output: 'False'."
   ]
  },
  {
   "cell_type": "markdown",
   "id": "fbcb089a-24e3-495d-95cc-55ce7c54b339",
   "metadata": {},
   "source": [
    "## Second approach: Brute Force (O(N³))\n",
    "Generate all possible substrings of the given string.  \n",
    "Check if each substring is a palindrome.  \n",
    "Keep track of the longest palindrome found.  \n"
   ]
  },
  {
   "cell_type": "code",
   "execution_count": 46,
   "id": "d9a7125e-c8aa-4656-8d5d-2e7c417474b9",
   "metadata": {},
   "outputs": [
    {
     "name": "stdout",
     "output_type": "stream",
     "text": [
      "bab\n"
     ]
    }
   ],
   "source": [
    "def longest_palindrome_brute_force(string):\n",
    "    def is_palindrome(sub): # The functon 'is_palindrome' checks if a given substring is a palindrome.\n",
    "        return sub == sub[::-1]\n",
    "    \n",
    "    max_length = 0\n",
    "    result = ''\n",
    "    \n",
    "    for i in range(len(string)): # This two nested loops generate all possible substrings.\n",
    "        for j in range(i, len(string)):\n",
    "            substring = string[i:j + 1]\n",
    "            if is_palindrome(substring) and len(substring) > max_length: # is_palindrome is called upon to check if given substring is a palindrome, and if it's longer than the previous one.\n",
    "                result = substring\n",
    "                max_length = len(substring)\n",
    "    \n",
    "    return result\n",
    "\n",
    "# Test case\n",
    "print(longest_palindrome_brute_force('babad'))  # Output: \"bab\" or \"aba\"\n"
   ]
  },
  {
   "cell_type": "markdown",
   "id": "dda5bebe-2064-42b1-90ac-28025f8fc6ba",
   "metadata": {},
   "source": [
    "## Third approach: Expand Around Center (O(N²)):\n",
    "\n",
    "Instead of generating all substrings, we can expand around each character (or pair of characters) and find the longest palindrome by growing outward.\n",
    "Steps:\n",
    "\n",
    "For each character in the string, treat it as the center of a potential palindrome.\n",
    "Expand outward while the characters on both sides are the same.\n",
    "Keep track of the longest palindrome found."
   ]
  },
  {
   "cell_type": "code",
   "execution_count": 51,
   "id": "1aebb8fb-6286-423f-8cb0-d0d7948afde6",
   "metadata": {},
   "outputs": [
    {
     "name": "stdout",
     "output_type": "stream",
     "text": [
      "bab\n",
      "bb\n",
      "ada\n"
     ]
    }
   ],
   "source": [
    "def longest_palindrome_expand_center(string):\n",
    "    if len(string) == 0:\n",
    "        return \"\"\n",
    "    \n",
    "    def expand_around_center(left, right): # The function expand_around_center takes two arguments, left and right, and expands outward while the characters match.\n",
    "        while left >= 0 and right < len(string) and string[left] == string[right]:\n",
    "            left -= 1\n",
    "            right += 1\n",
    "        return string[left + 1:right]\n",
    "    \n",
    "    longest = \"\"\n",
    "    \n",
    "    for i in range(len(string)):\n",
    "        # Odd length palindrome (single character center).\n",
    "        palindrome1 = expand_around_center(i, i)\n",
    "        \n",
    "        # Even length palindrome (two character center).\n",
    "        palindrome2 = expand_around_center(i, i + 1)\n",
    "        \n",
    "        # Update the longest palindrome when a longer one is found.\n",
    "        if len(palindrome1) > len(longest):\n",
    "            longest = palindrome1\n",
    "        if len(palindrome2) > len(longest):\n",
    "            longest = palindrome2\n",
    "    \n",
    "    return longest\n",
    "\n",
    "# Test case\n",
    "print(longest_palindrome_expand_center('babad'))  # Output: 'bab' or 'aba'.\n",
    "print(longest_palindrome_expand_center('cbbd'))   # Output: 'bb'.\n",
    "print(longest_palindrome_expand_center('adaav'))    # Output: 'ada'.\n"
   ]
  },
  {
   "cell_type": "markdown",
   "id": "bbb03057-1a8b-47d0-8d2a-8fd46b306969",
   "metadata": {},
   "source": [
    "# Problem 2\n",
    "\n",
    "Write a function that finds the two numbers in a list that add up to a specific target."
   ]
  },
  {
   "cell_type": "markdown",
   "id": "79fae2f5-0fbf-4307-85cc-276f53f81a09",
   "metadata": {},
   "source": [
    "## Approach 1: Brute Force (O(N²))\n",
    "\n",
    "Use two nested loops to check all pairs of numbers.  \n",
    "For each pair, check if their sum equals the target.  \n",
    "If found, return the indices.  "
   ]
  },
  {
   "cell_type": "code",
   "execution_count": 10,
   "id": "fef843c5-f893-4780-834c-2b3287193902",
   "metadata": {},
   "outputs": [
    {
     "name": "stdout",
     "output_type": "stream",
     "text": [
      "[0, 1]\n"
     ]
    }
   ],
   "source": [
    "def two_sum_brute_force(nums, target): # This function receives two arguments, the numbers list and the target\n",
    "    n = len(nums)\n",
    "    # The outer loop picks the first number (nums[i]), and the inner loop picks the second number (nums[j]).\n",
    "    for i in range(n): \n",
    "        for j in range(i + 1, n):\n",
    "            # We check if the sum of the two numbers equals the target.\n",
    "            if nums[i] + nums[j] == target:\n",
    "                return [i, j]\n",
    "    \n",
    "# Test case\n",
    "print(two_sum_brute_force([2, 7, 11, 15], 9))  # Output: [0, 1]\n"
   ]
  },
  {
   "cell_type": "markdown",
   "id": "03ce91ae-ac2b-409b-83c1-17a90d92dc8c",
   "metadata": {},
   "source": [
    "## Approach 2: Hash Map (O(N))\n",
    "\n",
    "We can solve this problem in linear time using a hash map (dictionary in Python):  \n",
    "\n",
    "Create an empty hash map (num_to_index) to store each number and its index as we iterate.  \n",
    "For each number num in the array, compute the complement (complement = target - num).  \n",
    "Check if the complement exists in the hash map:  \n",
    "    If yes, return the indices of the current number and its complement.  \n",
    "    If no, store the current number and its index in the hash map.  \n",
    "This approach ensures that each number is processed only once, giving us O(N) time complexity.  "
   ]
  },
  {
   "cell_type": "code",
   "execution_count": 1,
   "id": "f6c3dd27-469a-4eaf-a601-09e32cd90fe0",
   "metadata": {},
   "outputs": [
    {
     "name": "stdout",
     "output_type": "stream",
     "text": [
      "[0, 1]\n",
      "[1, 2]\n",
      "[0, 1]\n"
     ]
    }
   ],
   "source": [
    "def two_sum(nums, target):\n",
    "    num_to_index = {} # Hash Map - This map stores numbers as keys and their indices as values.\n",
    "    \n",
    "    for i, num in enumerate(nums):\n",
    "        complement = target - num # For each number num, we calculate complement = target - num.\n",
    "        if complement in num_to_index: # If complement is already in the hash map, it means we've seen a number that, when added to the current num, gives the target.\n",
    "            return [num_to_index[complement], i]\n",
    "        num_to_index[num] = i\n",
    "\n",
    "# Test case\n",
    "print(two_sum([2, 7, 11, 15], 9))  # Output: [0, 1]\n",
    "print(two_sum([3, 2, 4], 6))       # Output: [1, 2]\n",
    "print(two_sum([3, 3], 6))          # Output: [0, 1]\n"
   ]
  },
  {
   "cell_type": "code",
   "execution_count": 2,
   "id": "048e59f4-dedf-48a0-a567-73d99c61ca3a",
   "metadata": {},
   "outputs": [
    {
     "data": {
      "text/plain": [
       "set()"
      ]
     },
     "execution_count": 2,
     "metadata": {},
     "output_type": "execute_result"
    }
   ],
   "source": [
    "x  = set()\n",
    "x"
   ]
  },
  {
   "cell_type": "code",
   "execution_count": 4,
   "id": "9b792f6a-810e-4c01-ad1a-3d2b980f10ad",
   "metadata": {},
   "outputs": [
    {
     "data": {
      "text/plain": [
       "{1}"
      ]
     },
     "execution_count": 4,
     "metadata": {},
     "output_type": "execute_result"
    }
   ],
   "source": [
    "x.add(1)\n",
    "x"
   ]
  },
  {
   "cell_type": "code",
   "execution_count": 5,
   "id": "d153dd3f-f53c-411f-9781-d78c4c54c36d",
   "metadata": {},
   "outputs": [
    {
     "data": {
      "text/plain": [
       "[1, 2, 4, 57, 8, 9, 9, 0, 3, 4, 2, 6, 8, 0, 1]"
      ]
     },
     "execution_count": 5,
     "metadata": {},
     "output_type": "execute_result"
    }
   ],
   "source": [
    "list = [1,2,4,57,8,9,9,0,3,4,2,6,8,0,1]\n",
    "list\n"
   ]
  },
  {
   "cell_type": "code",
   "execution_count": 10,
   "id": "ca0cf207-4c05-4052-993c-e2d134415f8c",
   "metadata": {},
   "outputs": [
    {
     "data": {
      "text/plain": [
       "{0, 1, 2, 3, 4, 6, 8, 9, 57}"
      ]
     },
     "execution_count": 10,
     "metadata": {},
     "output_type": "execute_result"
    }
   ],
   "source": [
    "lista_unica = set(list)\n",
    "lista_unica"
   ]
  }
 ],
 "metadata": {
  "kernelspec": {
   "display_name": "Python 3 (ipykernel)",
   "language": "python",
   "name": "python3"
  },
  "language_info": {
   "codemirror_mode": {
    "name": "ipython",
    "version": 3
   },
   "file_extension": ".py",
   "mimetype": "text/x-python",
   "name": "python",
   "nbconvert_exporter": "python",
   "pygments_lexer": "ipython3",
   "version": "3.13.1"
  }
 },
 "nbformat": 4,
 "nbformat_minor": 5
}
